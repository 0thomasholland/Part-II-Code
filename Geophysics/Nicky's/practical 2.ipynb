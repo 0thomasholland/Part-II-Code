{
 "cells": [
  {
   "cell_type": "code",
   "execution_count": null,
   "metadata": {},
   "outputs": [
    {
     "ename": "",
     "evalue": "",
     "output_type": "error",
     "traceback": [
      "\u001b[1;31mRunning cells with '/workspaces/Part-II-Code/.conda/bin/python' requires the ipykernel package.\n",
      "\u001b[1;31mRun the following command to install 'ipykernel' into the Python environment. \n",
      "\u001b[1;31mCommand: 'conda install -p /workspaces/Part-II-Code/.conda ipykernel --update-deps --force-reinstall'"
     ]
    }
   ],
   "source": [
    "from math import exp, cos, sin, pi\n",
    "\n",
    "E = 70e9 # Young's modulus in Pa\n",
    "sigma = 0.25 # Poisson's ratio"
   ]
  },
  {
   "cell_type": "code",
   "execution_count": null,
   "metadata": {},
   "outputs": [],
   "source": [
    "def w(w0, x, alpha):\n",
    "    return w0*exp(-x/alpha)*(cos(x/alpha) + sin(x/alpha))\n",
    "\n",
    "def w0(V0, alpha, D):\n",
    "    return V0*(alpha**3)/(8*D)\n",
    "\n",
    "def alpha(D, rho_m, rho_p, g):\n",
    "    return (4*D/((rho_m - rho_p)*g))**(1/4)\n",
    "\n",
    "def D(Te):\n",
    "    return (E*(Te**3))/(12*(1 - sigma**2))\n",
    "\n",
    "def x0(alpha):\n",
    "    return alpha*3*pi/4"
   ]
  }
 ],
 "metadata": {
  "language_info": {
   "name": "python"
  }
 },
 "nbformat": 4,
 "nbformat_minor": 2
}
